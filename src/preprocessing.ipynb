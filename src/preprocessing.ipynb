{
 "cells": [
  {
   "cell_type": "code",
   "execution_count": 1,
   "metadata": {},
   "outputs": [],
   "source": [
    "import numpy as np\n",
    "import matplotlib.pyplot as plt\n",
    "import seaborn as sns\n",
    "import pandas as pd\n",
    "from collections import Counter\n",
    "from IPython.core.interactiveshell import InteractiveShell\n",
    "import warnings\n",
    "from pandas import read_csv\n",
    "from sklearn.neighbors import KNeighborsClassifier\n",
    "from sklearn.neighbors import LocalOutlierFactor\n",
    "from sklearn import preprocessing\n",
    "from statsmodels.genmod.generalized_linear_model import GLM\n",
    "from pandas.plotting import scatter_matrix\n",
    "from scipy.stats import boxcox\n",
    "\n",
    "InteractiveShell.ast_node_interactivity = \"all\"\n",
    "#pd.set_option('precision', 3)\n",
    "display.precision = 3\n",
    "sns.set()\n",
    "warnings.filterwarnings('ignore')"
   ]
  },
  {
   "cell_type": "code",
   "execution_count": 17,
   "metadata": {},
   "outputs": [],
   "source": [
    "df_results = pd.read_csv(\"Datathon_Results_MOBILITY_2022_original_Students.csv\", delimiter=\",\")\n"
   ]
  },
  {
   "cell_type": "code",
   "execution_count": 19,
   "metadata": {},
   "outputs": [
    {
     "data": {
      "text/plain": [
       "(1448, 22)"
      ]
     },
     "execution_count": 19,
     "metadata": {},
     "output_type": "execute_result"
    }
   ],
   "source": [
    "df_results.shape"
   ]
  },
  {
   "cell_type": "code",
   "execution_count": 21,
   "metadata": {},
   "outputs": [],
   "source": [
    "def data_explore(dataframe):\n",
    "    print(\"DATA EXPLORATION\")\n",
    "    print('*'*70)\n",
    "    print(\"Shape of dataset : \",dataframe.shape)\n",
    "    print('*'*70)\n",
    "    print(dataframe.info())\n",
    "    print('*'*70)\n",
    "    print(\"STATISTICAL ANALYSIS OF NUMERICAL DATA\")\n",
    "    print('*'*70)\n",
    "    print(dataframe.describe().T)\n",
    "    print('*'*70)\n",
    "    print(\"STATISTICAL ANALYSIS OF CATEGORICAL DATA\")\n",
    "    print('*'*70)\n",
    "    print(dataframe.describe(exclude = ['float', 'int64']).T)\n",
    "    print('*'*70)\n",
    "    print(\"MISSING VALUES\")\n",
    "    print('*'*70)\n",
    "    print(dataframe.isna().sum().sort_values(ascending=False))\n",
    "    print('*'*70)\n",
    "    print(\"MISSING VALUES IN %\")\n",
    "    print('*'*70)\n",
    "    print(round(100* (dataframe.isnull().sum() / len(dataframe)).sort_values(ascending=False),2))\n",
    "    print('*'*70)"
   ]
  },
  {
   "cell_type": "code",
   "execution_count": 22,
   "metadata": {},
   "outputs": [],
   "source": [
    "df_results.columns = [\"id\",\"id_2\",\"gender\",\"center\",\"year\",\"days\",\"postal\",\"s1\",\"s2\",\"s3\",\"same_route\",\n",
    "                      \"s1back\",\"s2back\",\"s3back\",\"r_fastest\",\"r_cheapest\",\"r_confortable\",\"r_onlyoption\",\n",
    "                      \"r_environmental\",\"r_healthiest\",\"r_needprivate\",\"r_other\"]\n",
    "\n",
    "df_results = df_results.iloc[:, 2:]\n"
   ]
  },
  {
   "cell_type": "code",
   "execution_count": 23,
   "metadata": {},
   "outputs": [
    {
     "data": {
      "text/plain": [
       "array(['Man', 'Woman', 'Non binary', 'NR/DK'], dtype=object)"
      ]
     },
     "execution_count": 23,
     "metadata": {},
     "output_type": "execute_result"
    }
   ],
   "source": [
    "df_results = df_results.dropna(subset=[\"postal\"])\n",
    "df_results[\"gender\"].unique()"
   ]
  },
  {
   "cell_type": "code",
   "execution_count": 24,
   "metadata": {},
   "outputs": [
    {
     "data": {
      "text/plain": [
       "(1400, 20)"
      ]
     },
     "execution_count": 24,
     "metadata": {},
     "output_type": "execute_result"
    }
   ],
   "source": [
    "df_results.shape"
   ]
  },
  {
   "cell_type": "code",
   "execution_count": 25,
   "metadata": {},
   "outputs": [
    {
     "data": {
      "text/plain": [
       "0        ESEIAAT\n",
       "1          ETSAB\n",
       "2         ETSEIB\n",
       "3          EPSEM\n",
       "4          ETSAB\n",
       "          ...   \n",
       "1443         FIB\n",
       "1444       EPSEB\n",
       "1445         FME\n",
       "1446        FOOT\n",
       "1447    ETSECCPB\n",
       "Name: center, Length: 1400, dtype: object"
      ]
     },
     "execution_count": 25,
     "metadata": {},
     "output_type": "execute_result"
    }
   ],
   "source": [
    "\n",
    "df_results['center'] = df_results['center'].str.extract(r'\\((.*?)\\)')\n",
    "df_results[\"center\"]"
   ]
  },
  {
   "cell_type": "code",
   "execution_count": 26,
   "metadata": {},
   "outputs": [
    {
     "data": {
      "text/plain": [
       "array(['No', 'Yes'], dtype=object)"
      ]
     },
     "execution_count": 26,
     "metadata": {},
     "output_type": "execute_result"
    }
   ],
   "source": [
    "df_results[\"same_route\"].unique()"
   ]
  },
  {
   "cell_type": "code",
   "execution_count": 27,
   "metadata": {},
   "outputs": [],
   "source": [
    "trajectes = [\"s1\",\"s2\",\"s3\",\"s1back\",\"s2back\",\"s3back\"]\n",
    "\n",
    "for item in trajectes:\n",
    "    df_results.loc[df_results[item] == 'Combustion vehicle (non-plug-in hybrid, electric or plug-in hybrid with non-renewable source charging),', item] = 'private'\n",
    "    df_results.loc[df_results[item] == 'Renfe', item] = 'public'\n",
    "    df_results.loc[df_results[item] == 'On foot', item] = 'active'\n",
    "    df_results.loc[df_results[item] == 'Underground', item] = 'public'\n",
    "    df_results.loc[df_results[item] == 'FGC', item] = 'public'\n",
    "    df_results.loc[df_results[item] == 'Bicycle', item] = 'active'\n",
    "    df_results.loc[df_results[item] == 'Tram', item] = 'public'\n",
    "    df_results.loc[df_results[item] ==  'Scooter (or other micro-mobility devices) with renewable charging', item] = 'private'\n",
    "    df_results.loc[df_results[item] == 'Taxi',item] = 'private'\n",
    "    df_results.loc[df_results[item] == 'Electric vehicle (with Zero label and renewable source charging)', item] = 'private'\n",
    "    df_results.loc[df_results[item] == 'Scooter (or other micro-mobility devices) with non-renewable charging', item] = 'private'\n",
    "    df_results.loc[df_results[item] == 'Electric motorcycle', item] = 'private'\n",
    "    df_results.loc[df_results[item] == 'Combustion or electric motorcycle with non-renewable source charging', item] = 'private'\n",
    "    df_results.loc[df_results[item] == 'Bus', item] = 'public'\n",
    "\n"
   ]
  },
  {
   "cell_type": "code",
   "execution_count": 28,
   "metadata": {},
   "outputs": [
    {
     "data": {
      "text/plain": [
       "array(['No', 'Yes'], dtype=object)"
      ]
     },
     "execution_count": 28,
     "metadata": {},
     "output_type": "execute_result"
    }
   ],
   "source": [
    "df_results[\"same_route\"].unique()"
   ]
  },
  {
   "cell_type": "code",
   "execution_count": 29,
   "metadata": {},
   "outputs": [],
   "source": [
    "relevant_columns = ['s1', 's2', 's3', 's1back', 's2back', 's3back']\n",
    "\n",
    "df_results[relevant_columns] = df_results[relevant_columns].replace('nan', np.nan)"
   ]
  },
  {
   "cell_type": "code",
   "execution_count": 30,
   "metadata": {},
   "outputs": [],
   "source": [
    "def sum_non_nan(row):\n",
    "    non_null_count = sum(1 if pd.notnull(row[col]) else 0 for col in relevant_columns)\n",
    "    return non_null_count\n",
    "\n",
    "# Apply the function row-wise to create a new column 'sum_non_nan_values'\n",
    "df_results['total_travels'] = df_results.apply(sum_non_nan, axis=1)"
   ]
  },
  {
   "cell_type": "code",
   "execution_count": 31,
   "metadata": {},
   "outputs": [
    {
     "data": {
      "text/plain": [
       "0    4\n",
       "1    3\n",
       "2    3\n",
       "3    3\n",
       "4    2\n",
       "Name: total_travels, dtype: int64"
      ]
     },
     "execution_count": 31,
     "metadata": {},
     "output_type": "execute_result"
    }
   ],
   "source": [
    "df_results['total_travels'].head()"
   ]
  },
  {
   "cell_type": "code",
   "execution_count": 32,
   "metadata": {},
   "outputs": [
    {
     "data": {
      "text/html": [
       "<div>\n",
       "<style scoped>\n",
       "    .dataframe tbody tr th:only-of-type {\n",
       "        vertical-align: middle;\n",
       "    }\n",
       "\n",
       "    .dataframe tbody tr th {\n",
       "        vertical-align: top;\n",
       "    }\n",
       "\n",
       "    .dataframe thead th {\n",
       "        text-align: right;\n",
       "    }\n",
       "</style>\n",
       "<table border=\"1\" class=\"dataframe\">\n",
       "  <thead>\n",
       "    <tr style=\"text-align: right;\">\n",
       "      <th></th>\n",
       "      <th>private_ratio</th>\n",
       "      <th>public_ratio</th>\n",
       "      <th>active_ratio</th>\n",
       "      <th>total_travels</th>\n",
       "    </tr>\n",
       "  </thead>\n",
       "  <tbody>\n",
       "    <tr>\n",
       "      <th>0</th>\n",
       "      <td>0.250000</td>\n",
       "      <td>0.500000</td>\n",
       "      <td>0.25</td>\n",
       "      <td>4</td>\n",
       "    </tr>\n",
       "    <tr>\n",
       "      <th>1</th>\n",
       "      <td>1.000000</td>\n",
       "      <td>0.000000</td>\n",
       "      <td>0.00</td>\n",
       "      <td>3</td>\n",
       "    </tr>\n",
       "    <tr>\n",
       "      <th>2</th>\n",
       "      <td>0.333333</td>\n",
       "      <td>0.666667</td>\n",
       "      <td>0.00</td>\n",
       "      <td>3</td>\n",
       "    </tr>\n",
       "    <tr>\n",
       "      <th>3</th>\n",
       "      <td>0.000000</td>\n",
       "      <td>0.000000</td>\n",
       "      <td>1.00</td>\n",
       "      <td>3</td>\n",
       "    </tr>\n",
       "    <tr>\n",
       "      <th>4</th>\n",
       "      <td>0.000000</td>\n",
       "      <td>1.000000</td>\n",
       "      <td>0.00</td>\n",
       "      <td>2</td>\n",
       "    </tr>\n",
       "  </tbody>\n",
       "</table>\n",
       "</div>"
      ],
      "text/plain": [
       "   private_ratio  public_ratio  active_ratio  total_travels\n",
       "0       0.250000      0.500000          0.25              4\n",
       "1       1.000000      0.000000          0.00              3\n",
       "2       0.333333      0.666667          0.00              3\n",
       "3       0.000000      0.000000          1.00              3\n",
       "4       0.000000      1.000000          0.00              2"
      ]
     },
     "execution_count": 32,
     "metadata": {},
     "output_type": "execute_result"
    }
   ],
   "source": [
    "# For each S1, ... S6, add the total values of value counts together\n",
    "\n",
    "private_counts = df_results[relevant_columns].apply(lambda row: row.eq('private').sum(), axis=1)\n",
    "public_counts = df_results[relevant_columns].apply(lambda row: row.eq('public').sum(), axis=1)\n",
    "active_counts = df_results[relevant_columns].apply(lambda row: row.eq('active').sum(), axis=1)\n",
    "\n",
    "df_results['private_ratio'] = private_counts / df_results['total_travels']\n",
    "df_results['public_ratio'] = public_counts / df_results['total_travels']\n",
    "df_results['active_ratio'] = active_counts / df_results['total_travels']\n",
    "\n",
    "comprovar = df_results[[\"private_ratio\",'public_ratio','active_ratio',\"total_travels\"]]\n",
    "comprovar.head()"
   ]
  },
  {
   "cell_type": "code",
   "execution_count": 33,
   "metadata": {},
   "outputs": [
    {
     "data": {
      "text/plain": [
       "(1400, 24)"
      ]
     },
     "execution_count": 33,
     "metadata": {},
     "output_type": "execute_result"
    }
   ],
   "source": [
    "df_results.shape"
   ]
  },
  {
   "cell_type": "code",
   "execution_count": 34,
   "metadata": {},
   "outputs": [
    {
     "data": {
      "text/plain": [
       "array(['Man', 'Woman', 'Non binary', 'NR/DK'], dtype=object)"
      ]
     },
     "execution_count": 34,
     "metadata": {},
     "output_type": "execute_result"
    }
   ],
   "source": [
    "df_results = df_results.dropna(subset=[\"postal\"])\n",
    "df_results[\"gender\"].unique()"
   ]
  },
  {
   "cell_type": "code",
   "execution_count": 35,
   "metadata": {},
   "outputs": [],
   "source": [
    "trajectes = [\"s1\",\"s2\",\"s3\",\"s1back\",\"s2back\",\"s3back\"]\n",
    "\n",
    "for item in trajectes:\n",
    "    df_results.loc[df_results[item] == 'Combustion vehicle (non-plug-in hybrid, electric or plug-in hybrid with non-renewable source charging),', item] = 'private'\n",
    "    df_results.loc[df_results[item] == 'Renfe', item] = 'public'\n",
    "    df_results.loc[df_results[item] == 'On foot', item] = 'active'\n",
    "    df_results.loc[df_results[item] == 'Underground', item] = 'public'\n",
    "    df_results.loc[df_results[item] == 'FGC', item] = 'public'\n",
    "    df_results.loc[df_results[item] == 'Bicycle', item] = 'active'\n",
    "    df_results.loc[df_results[item] == 'Tram', item] = 'public'\n",
    "    df_results.loc[df_results[item] ==  'Scooter (or other micro-mobility devices) with renewable charging', item] = 'private'\n",
    "    df_results.loc[df_results[item] == 'Taxi'] = 'private'\n",
    "    df_results.loc[df_results[item] == 'Electric vehicle (with Zero label and renewable source charging)', item] = 'private'\n",
    "    df_results.loc[df_results[item] == 'Scooter (or other micro-mobility devices) with non-renewable charging', item] = 'private'\n",
    "    df_results.loc[df_results[item] == 'Electric motorcycle', item] = 'private'\n",
    "    df_results.loc[df_results[item] == 'Combustion or electric motorcycle with non-renewable source charging', item] = 'private'\n",
    "    df_results.loc[df_results[item] == 'Bus', item] = 'public'\n",
    "\n"
   ]
  },
  {
   "cell_type": "code",
   "execution_count": 36,
   "metadata": {},
   "outputs": [],
   "source": [
    "def sum_non_nan(row):\n",
    "    non_null_count = sum(1 if pd.notnull(row[col]) else 0 for col in relevant_columns)\n",
    "    return non_null_count\n",
    "\n",
    "# Apply the function row-wise to create a new column 'sum_non_nan_values'\n",
    "df_results['total_travels'] = df_results.apply(sum_non_nan, axis=1)"
   ]
  },
  {
   "cell_type": "code",
   "execution_count": 37,
   "metadata": {},
   "outputs": [],
   "source": [
    "# For each S1, ... S6, add the total values of value counts together\n",
    "\n",
    "private_counts = df_results[relevant_columns].apply(lambda row: row.eq('private').sum(), axis=1)\n",
    "public_counts = df_results[relevant_columns].apply(lambda row: row.eq('public').sum(), axis=1)\n",
    "active_counts = df_results[relevant_columns].apply(lambda row: row.eq('active').sum(), axis=1)\n",
    "\n",
    "df_results['private_ratio'] = private_counts / df_results['total_travels']\n",
    "df_results['public_ratio'] = public_counts / df_results['total_travels']\n",
    "df_results['active_ratio'] = active_counts / df_results['total_travels']\n"
   ]
  },
  {
   "cell_type": "code",
   "execution_count": 38,
   "metadata": {},
   "outputs": [
    {
     "name": "stdout",
     "output_type": "stream",
     "text": [
      "DATA EXPLORATION\n",
      "**********************************************************************\n",
      "Shape of dataset :  (1400, 24)\n",
      "**********************************************************************\n",
      "<class 'pandas.core.frame.DataFrame'>\n",
      "Index: 1400 entries, 0 to 1447\n",
      "Data columns (total 24 columns):\n",
      " #   Column           Non-Null Count  Dtype  \n",
      "---  ------           --------------  -----  \n",
      " 0   gender           1400 non-null   object \n",
      " 1   center           1400 non-null   object \n",
      " 2   year             1400 non-null   object \n",
      " 3   days             1400 non-null   int64  \n",
      " 4   postal           1400 non-null   float64\n",
      " 5   s1               1332 non-null   object \n",
      " 6   s2               1082 non-null   object \n",
      " 7   s3               889 non-null    object \n",
      " 8   same_route       1400 non-null   object \n",
      " 9   s1back           156 non-null    object \n",
      " 10  s2back           135 non-null    object \n",
      " 11  s3back           106 non-null    object \n",
      " 12  r_fastest        1400 non-null   object \n",
      " 13  r_cheapest       1400 non-null   object \n",
      " 14  r_confortable    1400 non-null   object \n",
      " 15  r_onlyoption     1400 non-null   object \n",
      " 16  r_environmental  1400 non-null   object \n",
      " 17  r_healthiest     1400 non-null   object \n",
      " 18  r_needprivate    1400 non-null   object \n",
      " 19  r_other          51 non-null     object \n",
      " 20  total_travels    1400 non-null   int64  \n",
      " 21  private_ratio    1381 non-null   float64\n",
      " 22  public_ratio     1381 non-null   float64\n",
      " 23  active_ratio     1381 non-null   float64\n",
      "dtypes: float64(4), int64(2), object(18)\n",
      "memory usage: 273.4+ KB\n",
      "None\n",
      "**********************************************************************\n",
      "STATISTICAL ANALYSIS OF NUMERICAL DATA\n",
      "**********************************************************************\n",
      "                count         mean          std  min     25%          50%  \\\n",
      "days           1400.0     4.225714     1.162518  1.0     4.0     5.000000   \n",
      "postal         1400.0  9048.147143  5274.466268  0.0  8027.0  8205.000000   \n",
      "total_travels  1400.0     2.642857     1.264637  0.0     2.0     3.000000   \n",
      "private_ratio  1381.0     0.193990     0.360616  0.0     0.0     0.000000   \n",
      "public_ratio   1381.0     0.434033     0.362369  0.0     0.0     0.333333   \n",
      "active_ratio   1381.0     0.371977     0.344081  0.0     0.0     0.333333   \n",
      "\n",
      "                       75%      max  \n",
      "days              5.000000      7.0  \n",
      "postal         8760.000000  83293.0  \n",
      "total_travels     3.000000      6.0  \n",
      "private_ratio     0.333333      1.0  \n",
      "public_ratio      0.666667      1.0  \n",
      "active_ratio      0.666667      1.0  \n",
      "**********************************************************************\n",
      "STATISTICAL ANALYSIS OF CATEGORICAL DATA\n",
      "**********************************************************************\n",
      "                count unique  \\\n",
      "gender           1400      4   \n",
      "center           1400     16   \n",
      "year             1400      4   \n",
      "s1               1332      3   \n",
      "s2               1082      3   \n",
      "s3                889      3   \n",
      "same_route       1400      2   \n",
      "s1back            156      3   \n",
      "s2back            135      3   \n",
      "s3back            106      3   \n",
      "r_fastest        1400      2   \n",
      "r_cheapest       1400      2   \n",
      "r_confortable    1400      2   \n",
      "r_onlyoption     1400      2   \n",
      "r_environmental  1400      2   \n",
      "r_healthiest     1400      2   \n",
      "r_needprivate    1400      2   \n",
      "r_other            51     51   \n",
      "\n",
      "                                                               top  freq  \n",
      "gender                                                         Man   876  \n",
      "center                                                         FIB   182  \n",
      "year                                                         First   460  \n",
      "s1                                                          active   630  \n",
      "s2                                                          public   739  \n",
      "s3                                                          active   440  \n",
      "same_route                                                     Yes  1237  \n",
      "s1back                                                      active    72  \n",
      "s2back                                                      public    97  \n",
      "s3back                                                      active    52  \n",
      "r_fastest                                                      Yes   876  \n",
      "r_cheapest                                                      No   949  \n",
      "r_confortable                                                   No   964  \n",
      "r_onlyoption                                                    No  1149  \n",
      "r_environmental                                                 No  1274  \n",
      "r_healthiest                                                    No  1339  \n",
      "r_needprivate                                                   No  1315  \n",
      "r_other          During peak hours and for a one-way trip, it t...     1  \n",
      "**********************************************************************\n",
      "MISSING VALUES\n",
      "**********************************************************************\n",
      "r_other            1349\n",
      "s3back             1294\n",
      "s2back             1265\n",
      "s1back             1244\n",
      "s3                  511\n",
      "s2                  318\n",
      "s1                   68\n",
      "active_ratio         19\n",
      "public_ratio         19\n",
      "private_ratio        19\n",
      "r_onlyoption          0\n",
      "total_travels         0\n",
      "r_needprivate         0\n",
      "r_healthiest          0\n",
      "r_environmental       0\n",
      "gender                0\n",
      "r_confortable         0\n",
      "r_cheapest            0\n",
      "center                0\n",
      "same_route            0\n",
      "postal                0\n",
      "days                  0\n",
      "year                  0\n",
      "r_fastest             0\n",
      "dtype: int64\n",
      "**********************************************************************\n",
      "MISSING VALUES IN %\n",
      "**********************************************************************\n",
      "r_other            96.36\n",
      "s3back             92.43\n",
      "s2back             90.36\n",
      "s1back             88.86\n",
      "s3                 36.50\n",
      "s2                 22.71\n",
      "s1                  4.86\n",
      "active_ratio        1.36\n",
      "public_ratio        1.36\n",
      "private_ratio       1.36\n",
      "r_onlyoption        0.00\n",
      "total_travels       0.00\n",
      "r_needprivate       0.00\n",
      "r_healthiest        0.00\n",
      "r_environmental     0.00\n",
      "gender              0.00\n",
      "r_confortable       0.00\n",
      "r_cheapest          0.00\n",
      "center              0.00\n",
      "same_route          0.00\n",
      "postal              0.00\n",
      "days                0.00\n",
      "year                0.00\n",
      "r_fastest           0.00\n",
      "dtype: float64\n",
      "**********************************************************************\n"
     ]
    }
   ],
   "source": [
    "data_explore(df_results)"
   ]
  },
  {
   "cell_type": "code",
   "execution_count": 39,
   "metadata": {},
   "outputs": [],
   "source": [
    "df_results = df_results.dropna(subset=[\"private_ratio\"])"
   ]
  },
  {
   "cell_type": "code",
   "execution_count": 40,
   "metadata": {},
   "outputs": [
    {
     "name": "stdout",
     "output_type": "stream",
     "text": [
      "DATA EXPLORATION\n",
      "**********************************************************************\n",
      "Shape of dataset :  (1381, 24)\n",
      "**********************************************************************\n",
      "<class 'pandas.core.frame.DataFrame'>\n",
      "Index: 1381 entries, 0 to 1447\n",
      "Data columns (total 24 columns):\n",
      " #   Column           Non-Null Count  Dtype  \n",
      "---  ------           --------------  -----  \n",
      " 0   gender           1381 non-null   object \n",
      " 1   center           1381 non-null   object \n",
      " 2   year             1381 non-null   object \n",
      " 3   days             1381 non-null   int64  \n",
      " 4   postal           1381 non-null   float64\n",
      " 5   s1               1332 non-null   object \n",
      " 6   s2               1082 non-null   object \n",
      " 7   s3               889 non-null    object \n",
      " 8   same_route       1381 non-null   object \n",
      " 9   s1back           156 non-null    object \n",
      " 10  s2back           135 non-null    object \n",
      " 11  s3back           106 non-null    object \n",
      " 12  r_fastest        1381 non-null   object \n",
      " 13  r_cheapest       1381 non-null   object \n",
      " 14  r_confortable    1381 non-null   object \n",
      " 15  r_onlyoption     1381 non-null   object \n",
      " 16  r_environmental  1381 non-null   object \n",
      " 17  r_healthiest     1381 non-null   object \n",
      " 18  r_needprivate    1381 non-null   object \n",
      " 19  r_other          47 non-null     object \n",
      " 20  total_travels    1381 non-null   int64  \n",
      " 21  private_ratio    1381 non-null   float64\n",
      " 22  public_ratio     1381 non-null   float64\n",
      " 23  active_ratio     1381 non-null   float64\n",
      "dtypes: float64(4), int64(2), object(18)\n",
      "memory usage: 269.7+ KB\n",
      "None\n",
      "**********************************************************************\n",
      "STATISTICAL ANALYSIS OF NUMERICAL DATA\n",
      "**********************************************************************\n",
      "                count         mean          std  min     25%          50%  \\\n",
      "days           1381.0     4.236061     1.150628  1.0     4.0     5.000000   \n",
      "postal         1381.0  8978.108617  4889.175078  0.0  8027.0  8204.000000   \n",
      "total_travels  1381.0     2.679218     1.234437  1.0     2.0     3.000000   \n",
      "private_ratio  1381.0     0.193990     0.360616  0.0     0.0     0.000000   \n",
      "public_ratio   1381.0     0.434033     0.362369  0.0     0.0     0.333333   \n",
      "active_ratio   1381.0     0.371977     0.344081  0.0     0.0     0.333333   \n",
      "\n",
      "                       75%      max  \n",
      "days              5.000000      7.0  \n",
      "postal         8758.000000  80826.0  \n",
      "total_travels     3.000000      6.0  \n",
      "private_ratio     0.333333      1.0  \n",
      "public_ratio      0.666667      1.0  \n",
      "active_ratio      0.666667      1.0  \n",
      "**********************************************************************\n",
      "STATISTICAL ANALYSIS OF CATEGORICAL DATA\n",
      "**********************************************************************\n",
      "                count unique  \\\n",
      "gender           1381      4   \n",
      "center           1381     16   \n",
      "year             1381      4   \n",
      "s1               1332      3   \n",
      "s2               1082      3   \n",
      "s3                889      3   \n",
      "same_route       1381      2   \n",
      "s1back            156      3   \n",
      "s2back            135      3   \n",
      "s3back            106      3   \n",
      "r_fastest        1381      2   \n",
      "r_cheapest       1381      2   \n",
      "r_confortable    1381      2   \n",
      "r_onlyoption     1381      2   \n",
      "r_environmental  1381      2   \n",
      "r_healthiest     1381      2   \n",
      "r_needprivate    1381      2   \n",
      "r_other            47     47   \n",
      "\n",
      "                                                               top  freq  \n",
      "gender                                                         Man   868  \n",
      "center                                                         FIB   181  \n",
      "year                                                         First   454  \n",
      "s1                                                          active   630  \n",
      "s2                                                          public   739  \n",
      "s3                                                          active   440  \n",
      "same_route                                                     Yes  1218  \n",
      "s1back                                                      active    72  \n",
      "s2back                                                      public    97  \n",
      "s3back                                                      active    52  \n",
      "r_fastest                                                      Yes   869  \n",
      "r_cheapest                                                      No   932  \n",
      "r_confortable                                                   No   950  \n",
      "r_onlyoption                                                    No  1133  \n",
      "r_environmental                                                 No  1256  \n",
      "r_healthiest                                                    No  1320  \n",
      "r_needprivate                                                   No  1298  \n",
      "r_other          During peak hours and for a one-way trip, it t...     1  \n",
      "**********************************************************************\n",
      "MISSING VALUES\n",
      "**********************************************************************\n",
      "r_other            1334\n",
      "s3back             1275\n",
      "s2back             1246\n",
      "s1back             1225\n",
      "s3                  492\n",
      "s2                  299\n",
      "s1                   49\n",
      "gender                0\n",
      "r_onlyoption          0\n",
      "public_ratio          0\n",
      "private_ratio         0\n",
      "total_travels         0\n",
      "r_needprivate         0\n",
      "r_healthiest          0\n",
      "r_environmental       0\n",
      "r_fastest             0\n",
      "r_confortable         0\n",
      "r_cheapest            0\n",
      "center                0\n",
      "same_route            0\n",
      "postal                0\n",
      "days                  0\n",
      "year                  0\n",
      "active_ratio          0\n",
      "dtype: int64\n",
      "**********************************************************************\n",
      "MISSING VALUES IN %\n",
      "**********************************************************************\n",
      "r_other            96.60\n",
      "s3back             92.32\n",
      "s2back             90.22\n",
      "s1back             88.70\n",
      "s3                 35.63\n",
      "s2                 21.65\n",
      "s1                  3.55\n",
      "gender              0.00\n",
      "r_onlyoption        0.00\n",
      "public_ratio        0.00\n",
      "private_ratio       0.00\n",
      "total_travels       0.00\n",
      "r_needprivate       0.00\n",
      "r_healthiest        0.00\n",
      "r_environmental     0.00\n",
      "r_fastest           0.00\n",
      "r_confortable       0.00\n",
      "r_cheapest          0.00\n",
      "center              0.00\n",
      "same_route          0.00\n",
      "postal              0.00\n",
      "days                0.00\n",
      "year                0.00\n",
      "active_ratio        0.00\n",
      "dtype: float64\n",
      "**********************************************************************\n"
     ]
    }
   ],
   "source": [
    "data_explore(df_results)"
   ]
  },
  {
   "cell_type": "code",
   "execution_count": 41,
   "metadata": {},
   "outputs": [],
   "source": [
    "df_results = df_results.drop(columns = [\"s1\",'s2','s3','s1back','s2back','s3back','r_other'])"
   ]
  },
  {
   "cell_type": "code",
   "execution_count": 43,
   "metadata": {},
   "outputs": [],
   "source": [
    "df_results.to_csv(\"preprocessed_be.csv\", index=False)"
   ]
  },
  {
   "cell_type": "code",
   "execution_count": null,
   "metadata": {},
   "outputs": [],
   "source": []
  },
  {
   "cell_type": "code",
   "execution_count": null,
   "metadata": {},
   "outputs": [
    {
     "ename": "TypeError",
     "evalue": "'Index' object is not callable",
     "output_type": "error",
     "traceback": [
      "\u001b[1;31m---------------------------------------------------------------------------\u001b[0m",
      "\u001b[1;31mTypeError\u001b[0m                                 Traceback (most recent call last)",
      "\u001b[1;32mc:\\Users\\Lenovo\\Downloads\\Datathon-20231111T112402Z-001\\Datathon\\main.ipynb Cell 13\u001b[0m line \u001b[0;36m1\n\u001b[1;32m----> <a href='vscode-notebook-cell:/c%3A/Users/Lenovo/Downloads/Datathon-20231111T112402Z-001/Datathon/main.ipynb#X66sZmlsZQ%3D%3D?line=0'>1</a>\u001b[0m df_results\u001b[39m.\u001b[39;49mcolumns()\n",
      "\u001b[1;31mTypeError\u001b[0m: 'Index' object is not callable"
     ]
    }
   ],
   "source": []
  },
  {
   "cell_type": "code",
   "execution_count": null,
   "metadata": {},
   "outputs": [],
   "source": []
  },
  {
   "cell_type": "code",
   "execution_count": null,
   "metadata": {},
   "outputs": [],
   "source": []
  },
  {
   "cell_type": "code",
   "execution_count": null,
   "metadata": {},
   "outputs": [],
   "source": []
  },
  {
   "cell_type": "code",
   "execution_count": null,
   "metadata": {},
   "outputs": [],
   "source": []
  },
  {
   "cell_type": "code",
   "execution_count": null,
   "metadata": {},
   "outputs": [],
   "source": []
  },
  {
   "cell_type": "code",
   "execution_count": null,
   "metadata": {},
   "outputs": [],
   "source": []
  },
  {
   "cell_type": "code",
   "execution_count": null,
   "metadata": {},
   "outputs": [],
   "source": []
  },
  {
   "cell_type": "code",
   "execution_count": null,
   "metadata": {},
   "outputs": [],
   "source": [
    "data_explore(df_results)\n"
   ]
  },
  {
   "cell_type": "code",
   "execution_count": null,
   "metadata": {},
   "outputs": [],
   "source": [
    "data_explore(df_students2)"
   ]
  }
 ],
 "metadata": {
  "kernelspec": {
   "display_name": "Python 3",
   "language": "python",
   "name": "python3"
  },
  "language_info": {
   "codemirror_mode": {
    "name": "ipython",
    "version": 3
   },
   "file_extension": ".py",
   "mimetype": "text/x-python",
   "name": "python",
   "nbconvert_exporter": "python",
   "pygments_lexer": "ipython3",
   "version": "3.10.4"
  }
 },
 "nbformat": 4,
 "nbformat_minor": 2
}
