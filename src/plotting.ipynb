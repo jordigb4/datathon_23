{
 "cells": [
  {
   "cell_type": "code",
   "execution_count": null,
   "metadata": {},
   "outputs": [],
   "source": [
    "%pip install folium.plugins --upgrade\n",
    "%pip install folium\n",
    "%pip install shapely\n",
    "%pip install branca\n",
    "%pip install matplotlib"
   ]
  },
  {
   "cell_type": "code",
   "execution_count": null,
   "metadata": {},
   "outputs": [],
   "source": [
    "import json\n",
    "import folium\n",
    "import pandas as pd\n",
    "from shapely.geometry import LineString, MultiLineString, Point, mapping\n",
    "from shapely.wkt import loads\n",
    "from matplotlib.colors import rgb2hex           \n",
    "from branca.colormap import linear"
   ]
  },
  {
   "cell_type": "markdown",
   "metadata": {},
   "source": [
    "##### Coordinates for each center"
   ]
  },
  {
   "cell_type": "code",
   "execution_count": null,
   "metadata": {},
   "outputs": [],
   "source": [
    "dictionary_coord = {}\n",
    "dictionary_coord['FIB'] = (41.389509464271306, 2.1132900949612536)\n",
    "dictionary_coord['ETSEIB'] = (41.384880843955735, 2.1155950630696103)\n",
    "dictionary_coord['ETSAB'] = (41.38405501716756, 2.1140366968134603)\n",
    "dictionary_coord['ETSETB'] = (41.388896550663965, 2.1122289968137182)\n",
    "dictionary_coord['ETSECCPB'] = (41.388038743808714, 2.1110871956118213)\n",
    "dictionary_coord['ESEIAAT'] = (41.56311953197128, 2.0230346054568247)\n",
    "dictionary_coord['ETSAV'] = (41.47032499138291, 2.0705851263674204)\n",
    "dictionary_coord['EPSEM'] = (41.7367619, 1.8275600093754318)\n",
    "dictionary_coord['EPSEB'] = (41.38398159574671, 2.112779422594055)\n",
    "dictionary_coord['EEBE'] = (41.41358164329492, 2.2220088802759044)\n",
    "dictionary_coord['EEABB'] = (41.2765983603705, 1.9861430774420645)\n",
    "dictionary_coord['EETAC'] = (41.27568749859876, 1.9872608121524569)\n",
    "dictionary_coord['EPSEVG'] = (41.22150491967886, 1.729683450772624)\n",
    "dictionary_coord['FOOT'] = (41.56874095856424, 2.0236936208029763)\n",
    "dictionary_coord['FNB'] = (41.38319996329999, 2.183814121174014)\n",
    "dictionary_coord['FME'] = (41.38438382368992, 2.1157410269356474)"
   ]
  },
  {
   "cell_type": "markdown",
   "metadata": {},
   "source": [
    "##### Styles for each type of feature"
   ]
  },
  {
   "cell_type": "code",
   "execution_count": null,
   "metadata": {},
   "outputs": [],
   "source": [
    "def style_bicis(feature):\n",
    "    return {\n",
    "        'fillColor': 'violet',\n",
    "        'color': 'violet',\n",
    "        'weight': 2,\n",
    "        'fillOpacity': 0.5,\n",
    "    }"
   ]
  },
  {
   "cell_type": "code",
   "execution_count": null,
   "metadata": {},
   "outputs": [],
   "source": [
    "df = pd.read_csv(\"coordenades2.csv\", delimiter=\",\")\n",
    "map_center = [41.38879, 2.15899]\n",
    "map_multiPoints = folium.Map(location=map_center, zoom_start=14)\n",
    "# Function to add geometries to the map\n",
    "def add_to_map(geometry, color):\n",
    "    if geometry.geom_type == 'MultiLineString':\n",
    "        for line in geometry.geoms:  # Iterate over individual LineString components\n",
    "            if (color==\"blue\") :\n",
    "                folium.PolyLine(locations=[(lat, lon) for lon, lat in line.coords], color=color, opacity=1).add_to(map_multiPoints)\n",
    "            else:\n",
    "                folium.PolyLine(locations=[(lat, lon) for lon, lat in line.coords], color=color, opacity=1).add_to(map_multiPoints)\n",
    "    elif geometry.geom_type == 'Point':\n",
    "        lat, lon = geometry.y, geometry.x\n",
    "        folium.CircleMarker(location=[lat, lon], radius=3, color=color, fill=True).add_to(map_multiPoints)"
   ]
  },
  {
   "cell_type": "code",
   "execution_count": null,
   "metadata": {},
   "outputs": [],
   "source": [
    "# Iterate through rows and add geometries to the map\n",
    "for index, row in df.iterrows():\n",
    "    for column in df.columns:\n",
    "        if 'geometry' in column and pd.notna(row[column]) and row[column] != \"\":\n",
    "            geometry = loads(str(row[column]))\n",
    "            if('metro' in column) :\n",
    "                add_to_map(geometry, \"brown\")\n",
    "            else :\n",
    "                pass#add_to_map(geometry, \"brown\")\n",
    "\n",
    "with open('biciRoutes.geojson') as f:\n",
    "    geojson_data = json.load(f)\n",
    "\n",
    "# Iterate through features in the GeoJSON file\n",
    "# Add GeoJSON data to the map\n",
    "folium.GeoJson(geojson_data, style_function=style_bicis).add_to(map_multiPoints)\n",
    "\n"
   ]
  },
  {
   "cell_type": "markdown",
   "metadata": {},
   "source": [
    "##### Plotting bike spots"
   ]
  },
  {
   "cell_type": "code",
   "execution_count": null,
   "metadata": {},
   "outputs": [],
   "source": [
    "df_bicis = pd.read_csv(\"bicis_coordinades.csv\", delimiter=\",\")\n",
    "for row in df_bicis.iterrows() :\n",
    "    folium.CircleMarker(location=[row[1]['latitude_bicing'], row[1]['longitude_bicing']], radius=3, color=\"violet\", fill=True, fill_opacity=0.8).add_to(map_multiPoints)"
   ]
  },
  {
   "cell_type": "markdown",
   "metadata": {},
   "source": [
    "##### For every postal code, plot the data of the students from there"
   ]
  },
  {
   "cell_type": "code",
   "execution_count": null,
   "metadata": {},
   "outputs": [],
   "source": [
    "pre_df = pd.read_csv(\"preprocessed.csv\", delimiter=\",\")\n",
    "\n",
    "mapa = {}\n",
    "\n",
    "for _, item in pre_df[[\"postal\", \"Latitude\", \"Longitude\", \"private_ratio\", \"public_ratio\",\"active_ratio\"]].iterrows():\n",
    "    if str(item[0]) not in mapa:\n",
    "        mapa[str(item[0])] = [0, 0, 0, 0, 0, 0]\n",
    "        mapa[str(item[0])][4] = item[1]\n",
    "        mapa[str(item[0])][5] = item[2]\n",
    "    mapa[str(item[0])][0] += 1\n",
    "    mapa[str(item[0])][1] += item[3]\n",
    "    mapa[str(item[0])][2] += item[4]\n",
    "    mapa[str(item[0])][3] += item[5]\n",
    "print(mapa)\n",
    "for value in mapa.values() :\n",
    "    if(value[1] == max(value[1], value[2], value[3])) : \n",
    "        folium.CircleMarker(location=[value[4], value[5]], radius=value[0] * 1.01, color=\"blue\", fill=True, fill_opacity=0.8).add_to(map_multiPoints)\n",
    "    elif(value[2] == max(value[1], value[2], value[3])) : \n",
    "        folium.CircleMarker(location=[value[4], value[5]], radius=value[0] * 1.01, color=\"orange\", fill=True, fill_opacity=0.8).add_to(map_multiPoints)\n",
    "    else : \n",
    "        folium.CircleMarker(location=[value[4], value[5]], radius=value[0] * 1.01, color=\"green\", fill=True, fill_opacity=0.8).add_to(map_multiPoints)"
   ]
  },
  {
   "cell_type": "markdown",
   "metadata": {},
   "source": [
    "##### Plot the HeatMap"
   ]
  },
  {
   "cell_type": "code",
   "execution_count": null,
   "metadata": {},
   "outputs": [],
   "source": [
    "from folium.plugins import HeatMap\n",
    "\n",
    "pre_df = pd.read_csv(\"preprocessed.csv\", delimiter=\",\")\n",
    "\n",
    "mapa = {}\n",
    "\n",
    "for _, item in pre_df[[\"postal\", \"Latitude\", \"Longitude\", \"private_ratio\", \"public_ratio\",\"active_ratio\"]].iterrows():\n",
    "    if str(item[0]) not in mapa:\n",
    "        mapa[str(item[0])] = [0, 0, 0, 0, 0, 0]\n",
    "        mapa[str(item[0])][4] = item[1]\n",
    "        mapa[str(item[0])][5] = item[2]\n",
    "    mapa[str(item[0])][0] += 1\n",
    "    mapa[str(item[0])][1] += item[3]\n",
    "    mapa[str(item[0])][2] += item[4]\n",
    "    mapa[str(item[0])][3] += item[5]\n",
    "\n",
    "HeatMap([[value[1][4], value[1][5], value[1][0]] for value in mapa.items()]).add_to(map_multiPoints)"
   ]
  },
  {
   "cell_type": "markdown",
   "metadata": {},
   "source": [
    "##### Declaration of the function to draw lines"
   ]
  },
  {
   "cell_type": "code",
   "execution_count": null,
   "metadata": {},
   "outputs": [],
   "source": [
    "import folium.plugins\n",
    "\n",
    "def draw_arrow(map, start, end, arrow_scale=2, arrow_color = 200):\n",
    "    # Line with size arrow_scale\n",
    "    # Make a blue with the value of arrow_color\n",
    "    color = f\"#{0}{0}{arrow_color:02x}\"\n",
    "    folium.PolyLine([start, end], color=color, weight=arrow_scale, border_color=\"black\", border_width=2,).add_to(map)\n",
    "    arrow = folium.Marker(location=end,\n",
    "                          icon=folium.plugins.BeautifyIcon(\n",
    "                              icon='arrow-up',\n",
    "                              border_color=\"yellow\",\n",
    "                              border_width=3,\n",
    "                              background_color='transparent'\n",
    "                          ))\n",
    "    arrow.add_to(map)"
   ]
  },
  {
   "cell_type": "markdown",
   "metadata": {},
   "source": [
    "##### Generation of colors in the blue specter"
   ]
  },
  {
   "cell_type": "code",
   "execution_count": null,
   "metadata": {},
   "outputs": [],
   "source": [
    "colormap = linear.YlGnBu_09.scale(0,118)\n",
    "colors_dict = {i: colormap(i) for i in range(0,118)}"
   ]
  },
  {
   "cell_type": "markdown",
   "metadata": {},
   "source": [
    "##### Plotting of the arrows varying by time and quantity of people "
   ]
  },
  {
   "cell_type": "code",
   "execution_count": null,
   "metadata": {},
   "outputs": [],
   "source": [
    "# First, lets group the dataframe by postal code\n",
    "df_grouped = pre_df.groupby('postal')\n",
    "\n",
    "# We only want those zip codes inside of the city of Barcelona\n",
    "# List of all the postal codes in the dataset\n",
    "valid_postal_codes = [8907,8040,8908,8039,8038,8004,8014,8905,8028,8950,8034,8017,8004,8017,8015,8021,8006,8029,8036,8008,8007,8011,8010,8009,8037,8013,8025,8026,8003,8005,8018,8019,8020,8027,8030,8016,8042,8031,8032,8035,8023,8022,8196,8198,8930,8918,8913,8923,8922,8914,8912]\n",
    "\n",
    "# Remove all groups whose postal code is not in the list\n",
    "df_grouped = [(postal, group) for postal, group in df_grouped if postal in valid_postal_codes]\n",
    "\n",
    "# Now, for each starting postal code, group by destination center\n",
    "for postal, df_postal in df_grouped:\n",
    "    df_postal_grouped = df_postal.groupby('center')\n",
    "\n",
    "    # Count ammount of rows in each group, get the maxim value\n",
    "    maximum = df_postal_grouped.size().max()\n",
    "\n",
    "    # Make a list with the x top centers\n",
    "    top_centers = df_postal_grouped.size().sort_values(ascending=False).index[:1]\n",
    "    \n",
    "    for center, df_center in df_postal_grouped:\n",
    "        if center not in top_centers:\n",
    "            continue\n",
    "        # Finally, let's draw the arrows\n",
    "        start_point = [df_center['Latitude'].iloc[0], df_center['Longitude'].iloc[0]]\n",
    "\n",
    "        velos_actius = (4.5 + 11) / 2\n",
    "        velos_publics = (15 + 30) / 2\n",
    "        velos_priv = 20\n",
    "\n",
    "        temps = df_center[\"Distance\"] / ((velos_actius * df_center[\"active_ratio\"]) + (velos_publics * df_center[\"public_ratio\"]) + (velos_priv * df_center[\"private_ratio\"] ))\n",
    "        mitjana_temps = temps.mean()\n",
    "        max_temps = max(temps)\n",
    "        min_temps=  min(temps)\n",
    "        # Get the name of the center and get the coordinates from the dictionary\n",
    "        end_point = dictionary_coord[df_center['center'].iloc[0]]\n",
    "        #print((df_center.count()[0]))\n",
    "        # Calculate the size of the arrow with a function of the ammount of people in comparison to the maximum\n",
    "        arrow_scale = (df_center.shape[0] * df_center.count()[0] )/maximum\n",
    "        hex = rgb2hex(colors_dict[(round(mitjana_temps* 100))]) \n",
    "        arrow_color = int(hex[1:],16)\n",
    "        # Draw the arrow\n",
    "        draw_arrow(map_multiPoints, start_point, end_point, arrow_scale=arrow_scale, arrow_color=arrow_color)\n",
    "\n"
   ]
  },
  {
   "cell_type": "markdown",
   "metadata": {},
   "source": [
    "##### Generate the map"
   ]
  },
  {
   "cell_type": "code",
   "execution_count": null,
   "metadata": {},
   "outputs": [],
   "source": [
    "# Save the map as an HTML file\n",
    "map_multiPoints.save('map_multiPoints.html')"
   ]
  }
 ],
 "metadata": {
  "kernelspec": {
   "display_name": "Python 3",
   "language": "python",
   "name": "python3"
  },
  "language_info": {
   "codemirror_mode": {
    "name": "ipython",
    "version": 3
   },
   "file_extension": ".py",
   "mimetype": "text/x-python",
   "name": "python",
   "nbconvert_exporter": "python",
   "pygments_lexer": "ipython3",
   "version": "3.10.6"
  }
 },
 "nbformat": 4,
 "nbformat_minor": 2
}
